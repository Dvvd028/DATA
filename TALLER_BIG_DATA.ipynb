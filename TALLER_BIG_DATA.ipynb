{
  "nbformat": 4,
  "nbformat_minor": 0,
  "metadata": {
    "colab": {
      "provenance": [],
      "authorship_tag": "ABX9TyNS8U+Hbznw78GKUCiHDAWy",
      "include_colab_link": true
    },
    "kernelspec": {
      "name": "python3",
      "display_name": "Python 3"
    },
    "language_info": {
      "name": "python"
    }
  },
  "cells": [
    {
      "cell_type": "markdown",
      "metadata": {
        "id": "view-in-github",
        "colab_type": "text"
      },
      "source": [
        "<a href=\"https://colab.research.google.com/github/Dvvd028/DATA/blob/main/TALLER_BIG_DATA.ipynb\" target=\"_parent\"><img src=\"https://colab.research.google.com/assets/colab-badge.svg\" alt=\"Open In Colab\"/></a>"
      ]
    },
    {
      "cell_type": "markdown",
      "source": [
        "**PRIMER TALLER**\n",
        "\n",
        "**DAVID HERNANDEZ SICACHÁ**\n",
        "\n",
        "**CODIGO: 63191100**"
      ],
      "metadata": {
        "id": "NVzf3wZJKsxH"
      }
    },
    {
      "cell_type": "markdown",
      "source": [
        "1. Cree una funcion par_impar que me identifique si el resultado de la suma de dos numeros cualquiera es impar o impar"
      ],
      "metadata": {
        "id": "7Gp6jDLYLJE1"
      }
    },
    {
      "cell_type": "code",
      "execution_count": 1,
      "metadata": {
        "colab": {
          "base_uri": "https://localhost:8080/"
        },
        "id": "2QVq1R4XKdgr",
        "outputId": "3fb65554-73a7-43e1-d19d-9525dd743b20"
      },
      "outputs": [
        {
          "output_type": "stream",
          "name": "stdout",
          "text": [
            "El número 6 es par.\n"
          ]
        }
      ],
      "source": [
        "def par_impar(a,b=2):\n",
        "\n",
        "  suma = a+b\n",
        "\n",
        "  if type (a) == int and type(b) == int:\n",
        "   if suma % 2 == 0:\n",
        "    print(f\"El número {suma} es par.\")\n",
        "   else:\n",
        "    print(f\"El número {suma} es impar.\")\n",
        "  else:\n",
        "    print(f\"Los datos integrados deben ser enteros\")\n",
        "\n",
        "par_impar(2,4) # INGRESE DOS NUMEROS (ENTEROS) CUALQUIERA"
      ]
    },
    {
      "cell_type": "markdown",
      "source": [
        "2. Cree una funcion div_sum que sume dos numeros enteros aleatorios, para que su resultado pueda ser divido por otro numero entero."
      ],
      "metadata": {
        "id": "ZPt_9quhMY1C"
      }
    },
    {
      "cell_type": "code",
      "source": [
        "def div_sum (a, b, c):\n",
        "\n",
        "  if type (a) == int and type(b) == int and type(c) == int:\n",
        "    suma = a+b\n",
        "    if c!=0:\n",
        "      print(f\"El número resultante es {suma/c}.\")\n",
        "    else:\n",
        "      print(\"No es posible ejecutar\")\n",
        "  else:\n",
        "    print(\"Todos los números deben ser enteros\")\n",
        "\n",
        "div_sum (8,2,8) # INGRESE TRES NUMEROS (ENTEROS) CUALQUIERA"
      ],
      "metadata": {
        "colab": {
          "base_uri": "https://localhost:8080/"
        },
        "id": "nvrlC3UWKg3J",
        "outputId": "9bb3fd68-1321-45e4-86b4-c5d066df4593"
      },
      "execution_count": 5,
      "outputs": [
        {
          "output_type": "stream",
          "name": "stdout",
          "text": [
            "El número resultante es 1.25.\n"
          ]
        }
      ]
    }
  ]
}